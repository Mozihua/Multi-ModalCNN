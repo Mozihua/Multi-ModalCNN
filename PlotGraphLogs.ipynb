{
 "cells": [
  {
   "cell_type": "code",
   "execution_count": 18,
   "metadata": {},
   "outputs": [
    {
     "name": "stderr",
     "output_type": "stream",
     "text": [
      "Using TensorFlow backend.\n"
     ]
    },
    {
     "ename": "ImportError",
     "evalue": "cannot import name 'load'",
     "output_type": "error",
     "traceback": [
      "\u001b[1;31m---------------------------------------------------------------------------\u001b[0m",
      "\u001b[1;31mImportError\u001b[0m                               Traceback (most recent call last)",
      "\u001b[1;32m<ipython-input-18-5911f94130dc>\u001b[0m in \u001b[0;36m<module>\u001b[1;34m()\u001b[0m\n\u001b[0;32m      4\u001b[0m \u001b[1;32mimport\u001b[0m \u001b[0mseaborn\u001b[0m \u001b[1;32mas\u001b[0m \u001b[0msns\u001b[0m\u001b[1;33m\u001b[0m\u001b[0m\n\u001b[0;32m      5\u001b[0m \u001b[0mget_ipython\u001b[0m\u001b[1;33m(\u001b[0m\u001b[1;33m)\u001b[0m\u001b[1;33m.\u001b[0m\u001b[0mmagic\u001b[0m\u001b[1;33m(\u001b[0m\u001b[1;34m'matplotlib inline'\u001b[0m\u001b[1;33m)\u001b[0m\u001b[1;33m\u001b[0m\u001b[0m\n\u001b[1;32m----> 6\u001b[1;33m \u001b[1;32mfrom\u001b[0m \u001b[0mkeras\u001b[0m \u001b[1;32mimport\u001b[0m \u001b[0mmodels\u001b[0m\u001b[1;33m,\u001b[0m \u001b[0mload\u001b[0m\u001b[1;33m\u001b[0m\u001b[0m\n\u001b[0m\u001b[0;32m      7\u001b[0m \u001b[1;33m\u001b[0m\u001b[0m\n\u001b[0;32m      8\u001b[0m \u001b[1;33m\u001b[0m\u001b[0m\n",
      "\u001b[1;31mImportError\u001b[0m: cannot import name 'load'"
     ]
    }
   ],
   "source": [
    "import numpy as np\n",
    "import pandas as pd\n",
    "import matplotlib.pyplot as plt\n",
    "import seaborn as sns\n",
    "%matplotlib inline\n",
    "from keras import models, load\n",
    "\n",
    "\n",
    "fold = 4\n",
    "\n",
    "df = pd.read_csv('fold_'+str(fold)+'/log.csv',sep=';')"
   ]
  },
  {
   "cell_type": "code",
   "execution_count": 2,
   "metadata": {},
   "outputs": [
    {
     "data": {
      "text/html": [
       "<div>\n",
       "<style>\n",
       "    .dataframe thead tr:only-child th {\n",
       "        text-align: right;\n",
       "    }\n",
       "\n",
       "    .dataframe thead th {\n",
       "        text-align: left;\n",
       "    }\n",
       "\n",
       "    .dataframe tbody tr th {\n",
       "        vertical-align: top;\n",
       "    }\n",
       "</style>\n",
       "<table border=\"1\" class=\"dataframe\">\n",
       "  <thead>\n",
       "    <tr style=\"text-align: right;\">\n",
       "      <th></th>\n",
       "      <th>epoch</th>\n",
       "      <th>acc</th>\n",
       "      <th>loss</th>\n",
       "      <th>lr</th>\n",
       "      <th>val_acc</th>\n",
       "      <th>val_loss</th>\n",
       "    </tr>\n",
       "  </thead>\n",
       "  <tbody>\n",
       "    <tr>\n",
       "      <th>0</th>\n",
       "      <td>0</td>\n",
       "      <td>0.484375</td>\n",
       "      <td>0.817996</td>\n",
       "      <td>0.00001</td>\n",
       "      <td>0.4</td>\n",
       "      <td>0.664871</td>\n",
       "    </tr>\n",
       "    <tr>\n",
       "      <th>1</th>\n",
       "      <td>1</td>\n",
       "      <td>0.578125</td>\n",
       "      <td>0.740995</td>\n",
       "      <td>0.00001</td>\n",
       "      <td>0.3</td>\n",
       "      <td>0.890730</td>\n",
       "    </tr>\n",
       "    <tr>\n",
       "      <th>2</th>\n",
       "      <td>2</td>\n",
       "      <td>0.593750</td>\n",
       "      <td>0.711979</td>\n",
       "      <td>0.00001</td>\n",
       "      <td>0.4</td>\n",
       "      <td>0.734865</td>\n",
       "    </tr>\n",
       "    <tr>\n",
       "      <th>3</th>\n",
       "      <td>3</td>\n",
       "      <td>0.585938</td>\n",
       "      <td>0.649179</td>\n",
       "      <td>0.00001</td>\n",
       "      <td>0.7</td>\n",
       "      <td>0.623870</td>\n",
       "    </tr>\n",
       "    <tr>\n",
       "      <th>4</th>\n",
       "      <td>4</td>\n",
       "      <td>0.585938</td>\n",
       "      <td>0.717092</td>\n",
       "      <td>0.00001</td>\n",
       "      <td>0.8</td>\n",
       "      <td>0.553994</td>\n",
       "    </tr>\n",
       "  </tbody>\n",
       "</table>\n",
       "</div>"
      ],
      "text/plain": [
       "   epoch       acc      loss       lr  val_acc  val_loss\n",
       "0      0  0.484375  0.817996  0.00001      0.4  0.664871\n",
       "1      1  0.578125  0.740995  0.00001      0.3  0.890730\n",
       "2      2  0.593750  0.711979  0.00001      0.4  0.734865\n",
       "3      3  0.585938  0.649179  0.00001      0.7  0.623870\n",
       "4      4  0.585938  0.717092  0.00001      0.8  0.553994"
      ]
     },
     "execution_count": 2,
     "metadata": {},
     "output_type": "execute_result"
    }
   ],
   "source": [
    "df.head()\n"
   ]
  },
  {
   "cell_type": "code",
   "execution_count": 3,
   "metadata": {},
   "outputs": [
    {
     "data": {
      "text/plain": [
       "<matplotlib.text.Text at 0x2f7fd345c0>"
      ]
     },
     "execution_count": 3,
     "metadata": {},
     "output_type": "execute_result"
    },
    {
     "data": {
      "image/png": "[encoded data removed]",
      "text/plain": [
       "<matplotlib.figure.Figure at 0x2f7fa0b588>"
      ]
     },
     "metadata": {},
     "output_type": "display_data"
    }
   ],
   "source": [
    "plt.figure(figsize=(15,4))\n",
    "plt.subplot(121)\n",
    "plt.scatter(df['epoch'], df['acc'], color='r')\n",
    "plt.scatter(df['epoch'], df['loss'], color='g')\n",
    "plt.xlabel('Epoch')\n",
    "plt.ylabel('Accuracy')\n",
    "plt.subplot(122)\n",
    "plt.scatter(df['epoch'], df['val_acc'], color='r')\n",
    "plt.scatter(df['epoch'], df['val_loss'], color='g')\n",
    "plt.xlabel('Epoch')\n",
    "plt.ylabel('Loss')"
   ]
  },
  {
   "cell_type": "code",
   "execution_count": 12,
   "metadata": {},
   "outputs": [
    {
     "name": "stdout",
     "output_type": "stream",
     "text": [
      "  class           precision               recall               fscore support  \\\n",
      "0     0                 0.5  0.76190476190476186  0.60377358490566035      21   \n",
      "1     1  0.2857142857142857   0.1111111111111111                 0.16      18   \n",
      "2     -                   -                    -                    -       -   \n",
      "\n",
      "              accuracy  \n",
      "0                    -  \n",
      "1                    -  \n",
      "2  0.46153846153846156  \n",
      "  class            precision               recall               fscore  \\\n",
      "0     0                  0.5  0.52380952380952384  0.51162790697674421   \n",
      "1     1  0.41176470588235292   0.3888888888888889  0.39999999999999997   \n",
      "2     -                    -                    -                    -   \n",
      "\n",
      "  support             accuracy  \n",
      "0      21                    -  \n",
      "1      18                    -  \n",
      "2       -  0.46153846153846156  \n",
      "  class            precision recall               fscore support  \\\n",
      "0     0  0.53846153846153844    1.0  0.70000000000000007      21   \n",
      "1     1                  0.0    0.0                  0.0      18   \n",
      "2     -                    -      -                    -       -   \n",
      "\n",
      "              accuracy  \n",
      "0                    -  \n",
      "1                    -  \n",
      "2  0.53846153846153844  \n",
      "  class            precision               recall               fscore  \\\n",
      "0     0  0.52000000000000002  0.61904761904761907  0.56521739130434778   \n",
      "1     1  0.42857142857142855  0.33333333333333331                0.375   \n",
      "2     -                    -                    -                    -   \n",
      "\n",
      "  support             accuracy  \n",
      "0      21                    -  \n",
      "1      18                    -  \n",
      "2       -  0.48717948717948717  \n",
      "  class           precision               recall               fscore support  \\\n",
      "0     0  0.5161290322580645  0.76190476190476186  0.61538461538461531      21   \n",
      "1     1               0.375  0.16666666666666666  0.23076923076923078      18   \n",
      "2     -                   -                    -                    -       -   \n",
      "\n",
      "              accuracy  \n",
      "0                    -  \n",
      "1                    -  \n",
      "2  0.48717948717948717  \n",
      "  class            precision               recall               fscore  \\\n",
      "0     0  0.53333333333333333  0.76190476190476186  0.62745098039215685   \n",
      "1     1  0.44444444444444442  0.22222222222222221  0.29629629629629628   \n",
      "2     -                    -                    -                    -   \n",
      "\n",
      "  support             accuracy  \n",
      "0      21                    -  \n",
      "1      18                    -  \n",
      "2       -  0.51282051282051277  \n",
      "  class            precision               recall               fscore  \\\n",
      "0     0                  0.5   0.7142857142857143  0.58823529411764697   \n",
      "1     1  0.33333333333333331  0.16666666666666666  0.22222222222222221   \n",
      "2     -                    -                    -                    -   \n",
      "\n",
      "  support             accuracy  \n",
      "0      21                    -  \n",
      "1      18                    -  \n",
      "2       -  0.46153846153846156  \n",
      "  class            precision               recall               fscore  \\\n",
      "0     0  0.62962962962962965  0.80952380952380953  0.70833333333333337   \n",
      "1     1  0.66666666666666663  0.44444444444444442  0.53333333333333333   \n",
      "2     -                    -                    -                    -   \n",
      "\n",
      "  support             accuracy  \n",
      "0      21                    -  \n",
      "1      18                    -  \n",
      "2       -  0.64102564102564108  \n",
      "  class precision               recall               fscore support  \\\n",
      "0     0       0.5  0.33333333333333331  0.40000000000000002      21   \n",
      "1     1      0.44  0.61111111111111116  0.51162790697674421      18   \n",
      "2     -         -                    -                    -       -   \n",
      "\n",
      "              accuracy  \n",
      "0                    -  \n",
      "1                    -  \n",
      "2  0.46153846153846156  \n",
      "  class            precision               recall               fscore  \\\n",
      "0     0              0.53125  0.80952380952380953  0.64150943396226423   \n",
      "1     1  0.42857142857142855  0.16666666666666666  0.23999999999999999   \n",
      "2     -                    -                    -                    -   \n",
      "\n",
      "  support             accuracy  \n",
      "0      21                    -  \n",
      "1      18                    -  \n",
      "2       -  0.51282051282051277  \n"
     ]
    }
   ],
   "source": [
    "#creating Matrix with Precison, Recall, Fmeasure, and accuracy\n",
    "metrics = pd.\n",
    "\n",
    "for i in range(0,10):\n",
    "    df = pd.read_csv('fold_'+str(i)+'/fold_'+str(i)+'_metrics.csv')\n",
    "    print(df)"
   ]
  },
  {
   "cell_type": "code",
   "execution_count": 6,
   "metadata": {},
   "outputs": [
    {
     "data": {
      "text/html": [
       "<div>\n",
       "<style>\n",
       "    .dataframe thead tr:only-child th {\n",
       "        text-align: right;\n",
       "    }\n",
       "\n",
       "    .dataframe thead th {\n",
       "        text-align: left;\n",
       "    }\n",
       "\n",
       "    .dataframe tbody tr th {\n",
       "        vertical-align: top;\n",
       "    }\n",
       "</style>\n",
       "<table border=\"1\" class=\"dataframe\">\n",
       "  <thead>\n",
       "    <tr style=\"text-align: right;\">\n",
       "      <th></th>\n",
       "      <th>class</th>\n",
       "      <th>precision</th>\n",
       "      <th>recall</th>\n",
       "      <th>fscore</th>\n",
       "      <th>support</th>\n",
       "      <th>accuracy</th>\n",
       "    </tr>\n",
       "  </thead>\n",
       "  <tbody>\n",
       "    <tr>\n",
       "      <th>0</th>\n",
       "      <td>0</td>\n",
       "      <td>0.53125</td>\n",
       "      <td>0.80952380952380953</td>\n",
       "      <td>0.64150943396226423</td>\n",
       "      <td>21</td>\n",
       "      <td>-</td>\n",
       "    </tr>\n",
       "    <tr>\n",
       "      <th>1</th>\n",
       "      <td>1</td>\n",
       "      <td>0.42857142857142855</td>\n",
       "      <td>0.16666666666666666</td>\n",
       "      <td>0.23999999999999999</td>\n",
       "      <td>18</td>\n",
       "      <td>-</td>\n",
       "    </tr>\n",
       "    <tr>\n",
       "      <th>2</th>\n",
       "      <td>-</td>\n",
       "      <td>-</td>\n",
       "      <td>-</td>\n",
       "      <td>-</td>\n",
       "      <td>-</td>\n",
       "      <td>0.51282051282051277</td>\n",
       "    </tr>\n",
       "  </tbody>\n",
       "</table>\n",
       "</div>"
      ],
      "text/plain": [
       "  class            precision               recall               fscore  \\\n",
       "0     0              0.53125  0.80952380952380953  0.64150943396226423   \n",
       "1     1  0.42857142857142855  0.16666666666666666  0.23999999999999999   \n",
       "2     -                    -                    -                    -   \n",
       "\n",
       "  support             accuracy  \n",
       "0      21                    -  \n",
       "1      18                    -  \n",
       "2       -  0.51282051282051277  "
      ]
     },
     "execution_count": 6,
     "metadata": {},
     "output_type": "execute_result"
    }
   ],
   "source": []
  },
  {
   "cell_type": "code",
   "execution_count": 16,
   "metadata": {},
   "outputs": [],
   "source": [
    "pred_axial = np.load('fold_0/fold_0_pred_labels.npy')"
   ]
  },
  {
   "cell_type": "code",
   "execution_count": 17,
   "metadata": {},
   "outputs": [],
   "source": [
    "pred_coronal = np.load('../OASIS_CrossVal_coronal/fold_0/fold_0_pred_labels.npy')"
   ]
  },
  {
   "cell_type": "code",
   "execution_count": null,
   "metadata": {},
   "outputs": [],
   "source": []
  }
 ],
 "metadata": {
  "kernelspec": {
   "display_name": "Python 3",
   "language": "python",
   "name": "python3"
  },
  "language_info": {
   "codemirror_mode": {
    "name": "ipython",
    "version": 3
   },
   "file_extension": ".py",
   "mimetype": "text/x-python",
   "name": "python",
   "nbconvert_exporter": "python",
   "pygments_lexer": "ipython3",
   "version": "3.6.3"
  }
 },
 "nbformat": 4,
 "nbformat_minor": 2
}
